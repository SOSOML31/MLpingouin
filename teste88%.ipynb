{
 "cells": [
  {
   "cell_type": "code",
   "execution_count": 15,
   "id": "8589673f-86bf-4d9d-9a5f-55ca323bc46c",
   "metadata": {},
   "outputs": [
    {
     "name": "stdout",
     "output_type": "stream",
     "text": [
      "Non, ce n'est pas un pingouin. Confiance : 48.36%\n"
     ]
    },
    {
     "name": "stderr",
     "output_type": "stream",
     "text": [
      "/var/folders/33/x9yqsg6s1w3_9tzn11968x_m0000gn/T/ipykernel_18020/929791667.py:8: FutureWarning: You are using `torch.load` with `weights_only=False` (the current default value), which uses the default pickle module implicitly. It is possible to construct malicious pickle data which will execute arbitrary code during unpickling (See https://github.com/pytorch/pytorch/blob/main/SECURITY.md#untrusted-models for more details). In a future release, the default value for `weights_only` will be flipped to `True`. This limits the functions that could be executed during unpickling. Arbitrary objects will no longer be allowed to be loaded via this mode unless they are explicitly allowlisted by the user via `torch.serialization.add_safe_globals`. We recommend you start setting `weights_only=True` for any use case where you don't have full control of the loaded file. Please open an issue on GitHub for any issues related to this experimental feature.\n",
      "  model = torch.load(model_path, map_location=device)\n"
     ]
    }
   ],
   "source": [
    "import torch\n",
    "from torchvision import transforms\n",
    "from PIL import Image\n",
    "\n",
    "# Charger le modèle\n",
    "model_path = \"best_penguin_model.pth\"\n",
    "device = torch.device(\"cuda:0\" if torch.cuda.is_available() else \"cpu\")\n",
    "model = torch.load(model_path, map_location=device)\n",
    "model.eval()\n",
    "\n",
    "# Classes (définies pendant l'entraînement)\n",
    "class_names = ['Adelie Penguin', 'Chinstrap Penguin', 'Emperor Penguin', 'Gentoo Penguin']\n",
    "\n",
    "# Transformation de l'image\n",
    "transform = transforms.Compose([\n",
    "    transforms.Resize((224, 224)),\n",
    "    transforms.ToTensor(),\n",
    "    transforms.Normalize([0.485, 0.456, 0.406], [0.229, 0.224, 0.225])\n",
    "])\n",
    "\n",
    "# Fonction pour prédire une image\n",
    "def predict_image(image_path, model, class_names):\n",
    "    image = Image.open(image_path).convert(\"RGB\")\n",
    "    image = transform(image).unsqueeze(0)\n",
    "    image = image.to(device)\n",
    "\n",
    "    with torch.no_grad():\n",
    "        outputs = model(image)\n",
    "        _, preds = torch.max(outputs, 1)\n",
    "        probabilities = torch.nn.functional.softmax(outputs, dim=1)[0]\n",
    "\n",
    "    predicted_class = class_names[preds[0]]\n",
    "    confidence = probabilities[preds[0]].item() * 100\n",
    "\n",
    "    if confidence > 50:\n",
    "        print(f\"Oui, c'est un {predicted_class} avec une confiance de {confidence:.2f}%\")\n",
    "    else:\n",
    "        print(f\"Non, ce n'est pas un pingouin. Confiance : {confidence:.2f}%\")\n",
    "\n",
    "# Tester une image\n",
    "test_image_path = \"zebre.jpg\"  # Remplacez par le chemin de votre image\n",
    "predict_image(test_image_path, model, class_names)"
   ]
  },
  {
   "cell_type": "code",
   "execution_count": null,
   "id": "859a31a5-5847-475d-97df-9c5fc79764d2",
   "metadata": {},
   "outputs": [],
   "source": []
  }
 ],
 "metadata": {
  "kernelspec": {
   "display_name": "Python 3 (ipykernel)",
   "language": "python",
   "name": "python3"
  },
  "language_info": {
   "codemirror_mode": {
    "name": "ipython",
    "version": 3
   },
   "file_extension": ".py",
   "mimetype": "text/x-python",
   "name": "python",
   "nbconvert_exporter": "python",
   "pygments_lexer": "ipython3",
   "version": "3.12.7"
  }
 },
 "nbformat": 4,
 "nbformat_minor": 5
}
