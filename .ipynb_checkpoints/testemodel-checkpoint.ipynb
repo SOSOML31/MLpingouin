{
 "cells": [
  {
   "cell_type": "code",
   "execution_count": 36,
   "id": "4bf30e74-bbf2-4463-90f4-3deeab090af0",
   "metadata": {},
   "outputs": [
    {
     "name": "stderr",
     "output_type": "stream",
     "text": [
      "WARNING:absl:Compiled the loaded model, but the compiled metrics have yet to be built. `model.compile_metrics` will be empty until you train or evaluate the model.\n"
     ]
    },
    {
     "name": "stdout",
     "output_type": "stream",
     "text": [
      "Modèle chargé avec succès.\n",
      "\u001b[1m1/1\u001b[0m \u001b[32m━━━━━━━━━━━━━━━━━━━━\u001b[0m\u001b[37m\u001b[0m \u001b[1m0s\u001b[0m 364ms/step\n",
      "Classe prédite : penguin avec une confiance de 0.63\n"
     ]
    }
   ],
   "source": [
    "from tensorflow.keras.models import load_model\n",
    "from tensorflow.keras.preprocessing.image import load_img, img_to_array\n",
    "import numpy as np\n",
    "\n",
    "\n",
    "model = load_model('penguin_classifier.h5')\n",
    "print(\"Modèle chargé avec succès.\")\n",
    "\n",
    "\n",
    "img_path = 'teste5.jpeg'\n",
    "\n",
    "\n",
    "img = load_img(img_path, target_size=(224, 224))  # Redimensionner à 224x224\n",
    "img_array = img_to_array(img)  # Convertir en tableau NumPy\n",
    "img_array = np.expand_dims(img_array, axis=0)  # Ajouter une dimension pour le batch\n",
    "img_array = img_array / 255.0  # Normaliser les pixels entre 0 et 1\n",
    "\n",
    "# Faire une prédiction\n",
    "predictions = model.predict(img_array)\n",
    "predicted_class = np.argmax(predictions, axis=1)  # Classe prédite (index)\n",
    "confidence = np.max(predictions)  # Confiance associée\n",
    "\n",
    "# Obtenir les labels de classe\n",
    "# NOTE : Assurez-vous que `train_data` (ou son équivalent) a été utilisé pour entraîner votre modèle\n",
    "class_labels = {0: \"animal penguin\", 1: \"penguin\"}  # Remplacez selon vos classes\n",
    "predicted_label = class_labels[predicted_class[0]]\n",
    "\n",
    "# Afficher les résultats\n",
    "print(f\"Classe prédite : {predicted_label} avec une confiance de {confidence:.2f}\")"
   ]
  },
  {
   "cell_type": "code",
   "execution_count": null,
   "id": "19343ceb-e0eb-4684-9541-ec1b6d6056c6",
   "metadata": {},
   "outputs": [],
   "source": []
  }
 ],
 "metadata": {
  "kernelspec": {
   "display_name": "Python 3 (ipykernel)",
   "language": "python",
   "name": "python3"
  },
  "language_info": {
   "codemirror_mode": {
    "name": "ipython",
    "version": 3
   },
   "file_extension": ".py",
   "mimetype": "text/x-python",
   "name": "python",
   "nbconvert_exporter": "python",
   "pygments_lexer": "ipython3",
   "version": "3.12.7"
  }
 },
 "nbformat": 4,
 "nbformat_minor": 5
}
